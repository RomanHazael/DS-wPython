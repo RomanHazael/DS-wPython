{
 "cells": [
  {
   "cell_type": "code",
   "execution_count": 7,
   "metadata": {},
   "outputs": [],
   "source": [
    "import pandas as pd\n",
    "import matplotlib.pyplot as plt\n",
    "#import seaborn as sns\n",
    "\n",
    "df_banco = pd.read_csv(\"german_credit.csv\")"
   ]
  },
  {
   "cell_type": "code",
   "execution_count": 6,
   "metadata": {},
   "outputs": [
    {
     "data": {
      "text/html": [
       "<div>\n",
       "<style scoped>\n",
       "    .dataframe tbody tr th:only-of-type {\n",
       "        vertical-align: middle;\n",
       "    }\n",
       "\n",
       "    .dataframe tbody tr th {\n",
       "        vertical-align: top;\n",
       "    }\n",
       "\n",
       "    .dataframe thead th {\n",
       "        text-align: right;\n",
       "    }\n",
       "</style>\n",
       "<table border=\"1\" class=\"dataframe\">\n",
       "  <thead>\n",
       "    <tr style=\"text-align: right;\">\n",
       "      <th></th>\n",
       "      <th>version https://git-lfs.github.com/spec/v1</th>\n",
       "    </tr>\n",
       "  </thead>\n",
       "  <tbody>\n",
       "    <tr>\n",
       "      <th>0</th>\n",
       "      <td>oid sha256:ef95f3cacbeb0ee784a60ac81e2f61cb45d...</td>\n",
       "    </tr>\n",
       "    <tr>\n",
       "      <th>1</th>\n",
       "      <td>size 292010</td>\n",
       "    </tr>\n",
       "  </tbody>\n",
       "</table>\n",
       "</div>"
      ],
      "text/plain": [
       "          version https://git-lfs.github.com/spec/v1\n",
       "0  oid sha256:ef95f3cacbeb0ee784a60ac81e2f61cb45d...\n",
       "1                                        size 292010"
      ]
     },
     "execution_count": 6,
     "metadata": {},
     "output_type": "execute_result"
    }
   ],
   "source": [
    "df_banco"
   ]
  },
  {
   "cell_type": "code",
   "execution_count": 2,
   "metadata": {},
   "outputs": [
    {
     "name": "stdout",
     "output_type": "stream",
     "text": [
      "<class 'pandas.core.frame.DataFrame'>\n",
      "RangeIndex: 2 entries, 0 to 1\n",
      "Data columns (total 1 columns):\n",
      " #   Column                                      Non-Null Count  Dtype \n",
      "---  ------                                      --------------  ----- \n",
      " 0   version https://git-lfs.github.com/spec/v1  2 non-null      object\n",
      "dtypes: object(1)\n",
      "memory usage: 148.0+ bytes\n"
     ]
    }
   ],
   "source": [
    "df_banco.info() #para ver la informacion representada\n",
    " #contar cuantos "
   ]
  },
  {
   "cell_type": "code",
   "execution_count": 3,
   "metadata": {},
   "outputs": [
    {
     "data": {
      "text/html": [
       "<div>\n",
       "<style scoped>\n",
       "    .dataframe tbody tr th:only-of-type {\n",
       "        vertical-align: middle;\n",
       "    }\n",
       "\n",
       "    .dataframe tbody tr th {\n",
       "        vertical-align: top;\n",
       "    }\n",
       "\n",
       "    .dataframe thead th {\n",
       "        text-align: right;\n",
       "    }\n",
       "</style>\n",
       "<table border=\"1\" class=\"dataframe\">\n",
       "  <thead>\n",
       "    <tr style=\"text-align: right;\">\n",
       "      <th></th>\n",
       "      <th>version https://git-lfs.github.com/spec/v1</th>\n",
       "    </tr>\n",
       "  </thead>\n",
       "  <tbody>\n",
       "    <tr>\n",
       "      <th>0</th>\n",
       "      <td>oid sha256:ef95f3cacbeb0ee784a60ac81e2f61cb45d...</td>\n",
       "    </tr>\n",
       "    <tr>\n",
       "      <th>1</th>\n",
       "      <td>size 292010</td>\n",
       "    </tr>\n",
       "  </tbody>\n",
       "</table>\n",
       "</div>"
      ],
      "text/plain": [
       "          version https://git-lfs.github.com/spec/v1\n",
       "0  oid sha256:ef95f3cacbeb0ee784a60ac81e2f61cb45d...\n",
       "1                                        size 292010"
      ]
     },
     "execution_count": 3,
     "metadata": {},
     "output_type": "execute_result"
    }
   ],
   "source": [
    "df_banco"
   ]
  },
  {
   "cell_type": "code",
   "execution_count": 4,
   "metadata": {},
   "outputs": [
    {
     "name": "stdout",
     "output_type": "stream",
     "text": [
      "El nombre de la columna: version https://git-lfs.github.com/spec/v1\n",
      "['oid sha256:ef95f3cacbeb0ee784a60ac81e2f61cb45da516b660706eab9b574c1b95d7d86', 'size 292010']\n",
      "\n",
      "\n"
     ]
    }
   ],
   "source": [
    "#Lectura de el df donde tiene strings\n",
    "\n",
    "columns = list(df_banco.select_dtypes(include = ['object']).columns)\n",
    "for col in columns:\n",
    "  print(f'El nombre de la columna: {col}')\n",
    "  print(list(df_banco[f'{col}'].value_counts().index))\n",
    "  print('\\n')\n",
    "  "
   ]
  },
  {
   "cell_type": "code",
   "execution_count": 5,
   "metadata": {},
   "outputs": [
    {
     "ename": "KeyError",
     "evalue": "'foreign_worker'",
     "output_type": "error",
     "traceback": [
      "\u001b[1;31m---------------------------------------------------------------------------\u001b[0m",
      "\u001b[1;31mKeyError\u001b[0m                                  Traceback (most recent call last)",
      "File \u001b[1;32mc:\\Users\\rhrh7\\AppData\\Local\\Programs\\Python\\Python312\\Lib\\site-packages\\pandas\\core\\indexes\\base.py:3791\u001b[0m, in \u001b[0;36mIndex.get_loc\u001b[1;34m(self, key)\u001b[0m\n\u001b[0;32m   3790\u001b[0m \u001b[38;5;28;01mtry\u001b[39;00m:\n\u001b[1;32m-> 3791\u001b[0m     \u001b[38;5;28;01mreturn\u001b[39;00m \u001b[38;5;28;43mself\u001b[39;49m\u001b[38;5;241;43m.\u001b[39;49m\u001b[43m_engine\u001b[49m\u001b[38;5;241;43m.\u001b[39;49m\u001b[43mget_loc\u001b[49m\u001b[43m(\u001b[49m\u001b[43mcasted_key\u001b[49m\u001b[43m)\u001b[49m\n\u001b[0;32m   3792\u001b[0m \u001b[38;5;28;01mexcept\u001b[39;00m \u001b[38;5;167;01mKeyError\u001b[39;00m \u001b[38;5;28;01mas\u001b[39;00m err:\n",
      "File \u001b[1;32mindex.pyx:152\u001b[0m, in \u001b[0;36mpandas._libs.index.IndexEngine.get_loc\u001b[1;34m()\u001b[0m\n",
      "File \u001b[1;32mindex.pyx:181\u001b[0m, in \u001b[0;36mpandas._libs.index.IndexEngine.get_loc\u001b[1;34m()\u001b[0m\n",
      "File \u001b[1;32mpandas\\_libs\\hashtable_class_helper.pxi:7080\u001b[0m, in \u001b[0;36mpandas._libs.hashtable.PyObjectHashTable.get_item\u001b[1;34m()\u001b[0m\n",
      "File \u001b[1;32mpandas\\_libs\\hashtable_class_helper.pxi:7088\u001b[0m, in \u001b[0;36mpandas._libs.hashtable.PyObjectHashTable.get_item\u001b[1;34m()\u001b[0m\n",
      "\u001b[1;31mKeyError\u001b[0m: 'foreign_worker'",
      "\nThe above exception was the direct cause of the following exception:\n",
      "\u001b[1;31mKeyError\u001b[0m                                  Traceback (most recent call last)",
      "Cell \u001b[1;32mIn[5], line 4\u001b[0m\n\u001b[0;32m      1\u001b[0m \u001b[38;5;66;03m#Comprension de la limpieza del diccionario \u001b[39;00m\n\u001b[0;32m      3\u001b[0m dic \u001b[38;5;241m=\u001b[39m {\u001b[38;5;124m'\u001b[39m\u001b[38;5;124myes\u001b[39m\u001b[38;5;124m'\u001b[39m:\u001b[38;5;241m1\u001b[39m,\u001b[38;5;124m'\u001b[39m\u001b[38;5;124mno\u001b[39m\u001b[38;5;124m'\u001b[39m:\u001b[38;5;241m0\u001b[39m}\n\u001b[1;32m----> 4\u001b[0m df_banco[\u001b[38;5;124m'\u001b[39m\u001b[38;5;124mforeign_worker\u001b[39m\u001b[38;5;124m'\u001b[39m]\u001b[38;5;241m=\u001b[39m\u001b[43mdf_banco\u001b[49m\u001b[43m[\u001b[49m\u001b[38;5;124;43m'\u001b[39;49m\u001b[38;5;124;43mforeign_worker\u001b[39;49m\u001b[38;5;124;43m'\u001b[39;49m\u001b[43m]\u001b[49m\u001b[38;5;241m.\u001b[39mmap(dic)\n\u001b[0;32m      5\u001b[0m df_banco[\u001b[38;5;124m'\u001b[39m\u001b[38;5;124mforeign_worker\u001b[39m\u001b[38;5;124m'\u001b[39m]\n",
      "File \u001b[1;32mc:\\Users\\rhrh7\\AppData\\Local\\Programs\\Python\\Python312\\Lib\\site-packages\\pandas\\core\\frame.py:3893\u001b[0m, in \u001b[0;36mDataFrame.__getitem__\u001b[1;34m(self, key)\u001b[0m\n\u001b[0;32m   3891\u001b[0m \u001b[38;5;28;01mif\u001b[39;00m \u001b[38;5;28mself\u001b[39m\u001b[38;5;241m.\u001b[39mcolumns\u001b[38;5;241m.\u001b[39mnlevels \u001b[38;5;241m>\u001b[39m \u001b[38;5;241m1\u001b[39m:\n\u001b[0;32m   3892\u001b[0m     \u001b[38;5;28;01mreturn\u001b[39;00m \u001b[38;5;28mself\u001b[39m\u001b[38;5;241m.\u001b[39m_getitem_multilevel(key)\n\u001b[1;32m-> 3893\u001b[0m indexer \u001b[38;5;241m=\u001b[39m \u001b[38;5;28;43mself\u001b[39;49m\u001b[38;5;241;43m.\u001b[39;49m\u001b[43mcolumns\u001b[49m\u001b[38;5;241;43m.\u001b[39;49m\u001b[43mget_loc\u001b[49m\u001b[43m(\u001b[49m\u001b[43mkey\u001b[49m\u001b[43m)\u001b[49m\n\u001b[0;32m   3894\u001b[0m \u001b[38;5;28;01mif\u001b[39;00m is_integer(indexer):\n\u001b[0;32m   3895\u001b[0m     indexer \u001b[38;5;241m=\u001b[39m [indexer]\n",
      "File \u001b[1;32mc:\\Users\\rhrh7\\AppData\\Local\\Programs\\Python\\Python312\\Lib\\site-packages\\pandas\\core\\indexes\\base.py:3798\u001b[0m, in \u001b[0;36mIndex.get_loc\u001b[1;34m(self, key)\u001b[0m\n\u001b[0;32m   3793\u001b[0m     \u001b[38;5;28;01mif\u001b[39;00m \u001b[38;5;28misinstance\u001b[39m(casted_key, \u001b[38;5;28mslice\u001b[39m) \u001b[38;5;129;01mor\u001b[39;00m (\n\u001b[0;32m   3794\u001b[0m         \u001b[38;5;28misinstance\u001b[39m(casted_key, abc\u001b[38;5;241m.\u001b[39mIterable)\n\u001b[0;32m   3795\u001b[0m         \u001b[38;5;129;01mand\u001b[39;00m \u001b[38;5;28many\u001b[39m(\u001b[38;5;28misinstance\u001b[39m(x, \u001b[38;5;28mslice\u001b[39m) \u001b[38;5;28;01mfor\u001b[39;00m x \u001b[38;5;129;01min\u001b[39;00m casted_key)\n\u001b[0;32m   3796\u001b[0m     ):\n\u001b[0;32m   3797\u001b[0m         \u001b[38;5;28;01mraise\u001b[39;00m InvalidIndexError(key)\n\u001b[1;32m-> 3798\u001b[0m     \u001b[38;5;28;01mraise\u001b[39;00m \u001b[38;5;167;01mKeyError\u001b[39;00m(key) \u001b[38;5;28;01mfrom\u001b[39;00m \u001b[38;5;21;01merr\u001b[39;00m\n\u001b[0;32m   3799\u001b[0m \u001b[38;5;28;01mexcept\u001b[39;00m \u001b[38;5;167;01mTypeError\u001b[39;00m:\n\u001b[0;32m   3800\u001b[0m     \u001b[38;5;66;03m# If we have a listlike key, _check_indexing_error will raise\u001b[39;00m\n\u001b[0;32m   3801\u001b[0m     \u001b[38;5;66;03m#  InvalidIndexError. Otherwise we fall through and re-raise\u001b[39;00m\n\u001b[0;32m   3802\u001b[0m     \u001b[38;5;66;03m#  the TypeError.\u001b[39;00m\n\u001b[0;32m   3803\u001b[0m     \u001b[38;5;28mself\u001b[39m\u001b[38;5;241m.\u001b[39m_check_indexing_error(key)\n",
      "\u001b[1;31mKeyError\u001b[0m: 'foreign_worker'"
     ]
    }
   ],
   "source": [
    "#Comprension de la limpieza del diccionario \n",
    "\n",
    "dic = {'yes':1,'no':0}\n",
    "df_banco['foreign_worker']=df_banco['foreign_worker'].map(dic)\n",
    "df_banco['foreign_worker']\n"
   ]
  },
  {
   "cell_type": "code",
   "execution_count": null,
   "metadata": {},
   "outputs": [],
   "source": [
    "#Se define el proceso para hacer sencilla el dataframe\n",
    "\n",
    "def procesar_datos():\n",
    "  global df_banco\n",
    "  df_banco = df_banco.drop_duplicates() if df_banco.duplicated().any() else df_banco\n",
    "  df_banco = df_banco.dropna() if df_banco.isnull().values.any() else df_banco\n",
    "\n",
    "  a = {'no checking account': 4,\n",
    "      '>= 200 DM / salary assignments for at least 1 year': 3,\n",
    "      '0 <= ... < 200 DM': 2,\n",
    "      '< 0 DM': 1\n",
    "  }\n",
    "  df_banco['account_check_status'] = df_banco['account_check_status'].map(a)\n",
    "\n",
    "  a = { 'no credits taken/ all credits paid back duly' : 1,\n",
    "      'all credits at this bank paid back duly' : 2,\n",
    "      'existing credits paid back duly till now' : 3,\n",
    "      'delay in paying off in the past' : 4,\n",
    "      'critical account/ other credits existing (not at this bank)' : 5\n",
    "  }\n",
    "  df_banco['credit_history'] = df_banco['credit_history'].map(a)\n",
    "\n",
    "  a = {'car (new)' : 1,\n",
    "      'car (used)' : 2,\n",
    "      'furniture/equipment' : 3,\n",
    "      'radio/television' : 4,\n",
    "      'domestic appliances' : 5,\n",
    "      'repairs' : 6,\n",
    "      'education' : 7,\n",
    "      '(vacation - does not exist?)' : 8,\n",
    "      'retraining' : 9,\n",
    "      'business' : 10,\n",
    "      'others' : 11\n",
    "  }\n",
    "  df_banco['purpose'] = df_banco['purpose'].map(a)\n",
    "\n",
    "  a = {'unknown/ no savings account' : 1,\n",
    "      '.. >= 1000 DM ' : 2,\n",
    "      '500 <= ... < 1000 DM ' : 3,\n",
    "      '100 <= ... < 500 DM' : 4,\n",
    "      '... < 100 DM' : 5\n",
    "  }\n",
    "  df_banco['savings'] = df_banco['savings'].map(a)\n",
    "\n",
    "  a = {'.. >= 7 years' : 1,\n",
    "      '4 <= ... < 7 years' : 2,\n",
    "      '1 <= ... < 4 years' : 3,\n",
    "      '... < 1 year ' : 4,\n",
    "      'unemployed' : 5\n",
    "  }\n",
    "  df_banco['present_emp_since'] = df_banco['present_emp_since'].map(a)\n",
    "\n",
    "  a = {'male : divorced/separated' : 1,\n",
    "      'female : divorced/separated/married' : 2,\n",
    "      'male : single' : 3,\n",
    "      'male : married/widowed' : 4,\n",
    "      'female : single' : 5\n",
    "  }\n",
    "  df_banco['personal_status_sex'] = df_banco['personal_status_sex'].map(a)\n",
    "\n",
    "  a = {'none' : 1,\n",
    "      'co-applicant' : 2,\n",
    "      'guarantor' : 3\n",
    "  }\n",
    "  df_banco['other_debtors'] = df_banco['other_debtors'].map(a)\n",
    "\n",
    "  a = {'real estate' : 1,\n",
    "      'if not A121 : building society savings agreement/ life insurance' : 2,\n",
    "      'if not A121/A122 : car or other, not in attribute 6' : 3,\n",
    "      'unknown / no property' : 4\n",
    "  }\n",
    "  df_banco['property'] = df_banco['property'].map(a)\n",
    "\n",
    "  a = {'bank' : 1,\n",
    "      'stores' : 2,\n",
    "      'none' : 3\n",
    "  }\n",
    "  df_banco['other_installment_plans'] = df_banco['other_installment_plans'].map(a)\n",
    "\n",
    "  a = {'rent' : 1,\n",
    "      'own' : 2,\n",
    "      'for free' : 3\n",
    "  }\n",
    "  df_banco['housing'] = df_banco['housing'].map(a)\n",
    "\n",
    "  a = {'unemployed/ unskilled - non-resident' : 1,\n",
    "      'unskilled - resident' : 2,\n",
    "      'skilled employee / official' : 3,\n",
    "      'management/ self-employed/ highly qualified employee/ officer' : 4\n",
    "  }\n",
    "  df_banco['job'] = df_banco['job'].map(a)\n",
    "\n",
    "  a = {'yes, registered under the customers name ' : 1,\n",
    "      'none' : 0\n",
    "  }\n",
    "  df_banco['telephone'] = df_banco['telephone'].map(a)"
   ]
  },
  {
   "cell_type": "code",
   "execution_count": null,
   "metadata": {},
   "outputs": [],
   "source": [
    "procesar_datos()\n",
    "df_banco.sample(3)"
   ]
  },
  {
   "cell_type": "code",
   "execution_count": null,
   "metadata": {},
   "outputs": [],
   "source": [
    "variablesdiscretas = ['personal_status_sex','age', 'duration_in_month', 'credit_amount']\n",
    "df_banco[variablesdiscretas].tail(3)"
   ]
  },
  {
   "cell_type": "code",
   "execution_count": null,
   "metadata": {},
   "outputs": [],
   "source": [
    "#Se introduce la manera de filtrar el genero de las personas\n",
    "dicgen = {1:0,3:0,4:0,2:1,5:1}\n",
    "df_banco['gender'] = df_banco           ['personal_status_sex'].map(dicgen)"
   ]
  },
  {
   "cell_type": "code",
   "execution_count": null,
   "metadata": {},
   "outputs": [],
   "source": [
    "#Se define la funcion en la cual podemos separar nuestros datos.\n",
    "\n",
    "def feature_engineering():\n",
    "  global df_banco\n",
    "  dic_sexo = {2:1, 5:1, 1:0, 3:0, 4:0}\n",
    "  dic_est_civil = {3:1, 5:1, 1:0, 2:0, 4:0}\n",
    "  df_banco['sexo'] = df_banco['personal_status_sex'].map(dic_sexo)\n",
    "  df_banco['estado_civil'] = df_banco['personal_status_sex'].map(dic_est_civil)\n",
    "  df_banco['rango_edad'] = pd.cut(x = df_banco['age'], \n",
    "                                  bins=[18, 30, 40, 50, 60, 70, 80], \n",
    "                                  labels = [1, 2, 3, 4, 5, 6]).astype(int)\n",
    "  df_banco['rango_plazos_credito']=pd.cut(x = df_banco['duration_in_month'], \n",
    "                                            bins=[1, 12, 24, 36, 48, 60, 72], \n",
    "                                            labels = [1, 2, 3, 4, 5, 6]).astype(int)\n",
    "  df_banco['rango_valor_credito']=pd.cut(x = df_banco['credit_amount'], \n",
    "                                           bins=[1, 1000, 2000, 3000, 4000, \n",
    "                                                 5000, 6000, 7000, 8000, 9000, \n",
    "                                                 10000, 11000, 12000, 13000, \n",
    "                                                 14000, 15000, 16000, 17000, \n",
    "                                                 18000, 19000, 20000], \n",
    "                                           labels = [1, 2, 3, 4, 5, 6, 7, 8, 9, \n",
    "                                                     10, 11, 12, 13, 14, 15, 16,\n",
    "                                                     17, 18, 19, 20]).astype(int)\n",
    "  df_banco = df_banco.drop(columns=['personal_status_sex','age',\n",
    "                                    'duration_in_month','credit_amount'])"
   ]
  },
  {
   "cell_type": "code",
   "execution_count": null,
   "metadata": {},
   "outputs": [],
   "source": [
    "feature_engineering()\n",
    "df_banco"
   ]
  },
  {
   "cell_type": "code",
   "execution_count": null,
   "metadata": {},
   "outputs": [],
   "source": [
    "df_banco.describe()"
   ]
  },
  {
   "cell_type": "code",
   "execution_count": null,
   "metadata": {},
   "outputs": [],
   "source": [
    "#Histograma para comprender mejor lo que se muestra en el describe\n",
    "def analisis_exploratorio():\n",
    "  global df_banco\n",
    "  histogramas = ['sexo','estado_civil','rango_plazos_credito','rango_edad','default']\n",
    "  lista_histogramas = list(enumerate(histogramas))\n",
    "  plt.figure(figsize = (30,20))\n",
    "  plt.title('Histogramas')\n",
    "  for i in lista_histogramas:\n",
    "    plt.subplot(3, 2, i[0]+1)\n",
    "    sns.countplot(x = i[1], data = df_banco)\n",
    "    plt.xlabel(i[1], fontsize=20)\n",
    "    plt.ylabel('Total', fontsize=20)"
   ]
  },
  {
   "cell_type": "code",
   "execution_count": null,
   "metadata": {},
   "outputs": [],
   "source": [
    "analisis_exploratorio()"
   ]
  }
 ],
 "metadata": {
  "kernelspec": {
   "display_name": "Python 3",
   "language": "python",
   "name": "python3"
  },
  "language_info": {
   "codemirror_mode": {
    "name": "ipython",
    "version": 3
   },
   "file_extension": ".py",
   "mimetype": "text/x-python",
   "name": "python",
   "nbconvert_exporter": "python",
   "pygments_lexer": "ipython3",
   "version": "3.12.1"
  }
 },
 "nbformat": 4,
 "nbformat_minor": 2
}
